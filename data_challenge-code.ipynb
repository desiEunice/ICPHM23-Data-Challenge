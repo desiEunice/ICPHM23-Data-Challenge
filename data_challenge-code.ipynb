{
  "cells": [
    {
      "cell_type": "code",
      "execution_count": 3,
      "metadata": {
        "id": "M3EV7B86Opz7"
      },
      "outputs": [],
      "source": [
        "## Importing Libraries \n",
        "\n",
        "\n",
        "import numpy as np\n",
        "import pandas as pd\n",
        "import os\n",
        "\n",
        "import seaborn as sns\n",
        "import matplotlib.pyplot as plt\n",
        "\n",
        "\n",
        "from sklearn.metrics import classification_report, confusion_matrix\n",
        "from sklearn.model_selection import KFold\n",
        "\n",
        "\n",
        "# Deep Learning Imports\n",
        "import tensorflow as tf\n",
        "import keras\n",
        "from keras.models import Sequential, load_model, Model\n",
        "from keras.layers import Dense, Conv1D, Activation, Dropout, Flatten, MaxPooling1D, Input \n",
        "from keras.callbacks import ModelCheckpoint, EarlyStopping\n",
        "from keras.activations import tanh\n",
        "from keras.optimizers import Adam\n",
        "from keras.utils.np_utils import to_categorical # convert to one-hot-encoding\n"
      ]
    },
    {
      "cell_type": "code",
      "execution_count": null,
      "metadata": {
        "colab": {
          "base_uri": "https://localhost:8080/"
        },
        "id": "PuQrkBTLckau",
        "outputId": "68619638-89b7-4b9b-e56e-30f0f1fdd8c0"
      },
      "outputs": [],
      "source": [
        "## For GPU\n",
        "\n",
        "import tensorflow as tf\n",
        "device_name = tf.test.gpu_device_name()\n",
        "if device_name != '/device:GPU:0':\n",
        "  raise SystemError('GPU device not found')\n",
        "print('Found GPU at: {}'.format(device_name))"
      ]
    },
    {
      "cell_type": "markdown",
      "metadata": {
        "id": "pVNgLs3fP3Vf"
      },
      "source": [
        "## Load Datasets"
      ]
    },
    {
      "cell_type": "code",
      "execution_count": null,
      "metadata": {
        "colab": {
          "base_uri": "https://localhost:8080/",
          "height": 198
        },
        "id": "oruuccxaYAs4",
        "outputId": "f79bca12-c671-40a1-fba7-b22d1dcfcd50"
      },
      "outputs": [],
      "source": [
        "from google.colab import files # to load dataset on google colab\n",
        "\n",
        "uploaded = files.upload()\n",
        "\n",
        "for fn in uploaded.keys():\n",
        "  print('User uploaded file \"Uploading_Data_Colab_1.xlsx\" with length 9000 bytes'.format(\n",
        "      name=fn, length=len(uploaded[fn])))"
      ]
    },
    {
      "cell_type": "code",
      "execution_count": 9,
      "metadata": {
        "id": "5L1UMEeLP1y9"
      },
      "outputs": [],
      "source": [
        "# Dataset under 1500rpm motor speed and 10Nm load using X direction\n",
        "x_1500 = np.load('x_1500_10.npy')\n",
        "y_1500 = np.load('gt_1500_10.npy') \n",
        "x_1500_test = np.load('x_test_1500_10.npy')\n",
        "\n",
        "\n",
        "# Dataset under 2700rpm motor speed and 25Nm load using X direction\n",
        "x_2700 = np.load('x_2700_25.npy')\n",
        "y_2700 = np.load('gt_2700_25.npy')\n",
        "x_2700_test = np.load('x_test_2700_25.npy')"
      ]
    },
    {
      "cell_type": "markdown",
      "metadata": {
        "id": "bh-jB8pVYTZd"
      },
      "source": [
        "## Data Preprocessing"
      ]
    },
    {
      "cell_type": "code",
      "execution_count": 10,
      "metadata": {
        "id": "vA4vn0s1YGq2"
      },
      "outputs": [],
      "source": [
        "# Define the to_3d function to change dataset to format suitable for keras model\n",
        "\n",
        "def to_3d(data):\n",
        "    data = np.reshape(data, data.shape+ (1,))\n",
        "    return data\n"
      ]
    },
    {
      "cell_type": "code",
      "execution_count": 11,
      "metadata": {
        "id": "-V2LH9s7ZaQa"
      },
      "outputs": [],
      "source": [
        "X_1500 = to_3d(x_1500)\n",
        "X_1500_test = to_3d(x_1500_test)\n",
        "\n",
        "X_2700 = to_3d(x_2700)\n",
        "X_2700_test = to_3d(x_2700_test)"
      ]
    },
    {
      "cell_type": "markdown",
      "metadata": {
        "id": "o6iDgyzkZ8cO"
      },
      "source": [
        "## Build 1D CNN Model for Vibration Signal feature extraction"
      ]
    },
    {
      "cell_type": "code",
      "execution_count": 12,
      "metadata": {
        "id": "3Ry8ukL_Zswa"
      },
      "outputs": [],
      "source": [
        "def model():\n",
        "     \n",
        "    num_classes = len(np.unique(y_2700))\n",
        "    input_size = X_2700.shape\n",
        "\n",
        "    conv1 = Sequential()\n",
        "    conv1.add(Conv1D(128,100, activation='relu', padding= 'same', input_shape = input_size[1:]))\n",
        "    conv1.add(MaxPooling1D(pool_size=2))\n",
        "    conv1.add(Dropout(rate=0.3))\n",
        "\n",
        "    conv1.add(Conv1D(64, 50, activation='relu', padding= 'same'))\n",
        "    conv1.add(MaxPooling1D(pool_size=2))\n",
        "    conv1.add(Dropout(rate=0.3))\n",
        "\n",
        "    conv1.add(Conv1D(32, 25, activation='relu', padding= 'same'))\n",
        "    conv1.add(MaxPooling1D(pool_size=2)) \n",
        "    conv1.add(Dropout(rate=0.25))\n",
        "\n",
        "    conv1.add(Conv1D(16, 25, activation='relu', padding= 'same'))\n",
        "    conv1.add(MaxPooling1D(pool_size=2))\n",
        "\n",
        "    conv1.add(Conv1D(8, 25, activation='relu', padding= 'same'))\n",
        "    conv1.add(Dropout(rate=0.25))\n",
        "\n",
        "    conv1.add(Flatten())\n",
        "    conv1.add(Dense(100, activation='relu'))\n",
        "    conv1.add(Dense(num_classes, activation='softmax'))\n",
        "\n",
        "\n",
        "    conv1.compile(optimizer = Adam(learning_rate = 0.001), loss='categorical_crossentropy', metrics=['accuracy'])\n",
        "\n",
        "    return conv1\n",
        "\n"
      ]
    },
    {
      "cell_type": "markdown",
      "metadata": {
        "id": "CjPhPzA-aesL"
      },
      "source": [
        "## Model Summary"
      ]
    },
    {
      "cell_type": "code",
      "execution_count": null,
      "metadata": {
        "colab": {
          "base_uri": "https://localhost:8080/"
        },
        "id": "ZIKvZJ9LagJs",
        "outputId": "aabef740-df95-417e-d33d-d4762c0d0234"
      },
      "outputs": [],
      "source": [
        "model().summary()"
      ]
    },
    {
      "cell_type": "markdown",
      "metadata": {
        "id": "jIn02EpBa0I9"
      },
      "source": [
        "## Train Model"
      ]
    },
    {
      "cell_type": "code",
      "execution_count": 14,
      "metadata": {
        "id": "NZjQwPuxa2Py"
      },
      "outputs": [],
      "source": [
        "def train_model(x_data, y_data, test_data): \n",
        "\n",
        "    n_split = 5\n",
        "    cv_scores = [] # create a list of cross-validation (cv) scores for all cv sets\n",
        "    cms = [] # create a list of confusion matrices for all cv sets\n",
        "    history = [] # create a list of model history for all cv sets\n",
        "    test_data_pred = [] # create list of model prediction on test data for all cv sets\n",
        "\n",
        "    with tf.device('/device:GPU:0'): # run with google colab GPU\n",
        "    \n",
        "        for train_index,test_index in KFold(n_split).split(x_data):\n",
        "\n",
        "          x_train,x_test= x_data[train_index], x_data[test_index]\n",
        "          y_train,y_test= y_data[train_index], y_data[test_index]\n",
        "          Y_train = to_categorical(y_train, num_classes = 5)\n",
        "          Y_test = to_categorical(y_test, num_classes = 5)\n",
        "\n",
        "\n",
        "          batch_size= 200\n",
        "          num_epochs= 25\n",
        "  \n",
        "          cnn_model= model()\n",
        "\n",
        "          hist = cnn_model.fit(x_train, Y_train,epochs=num_epochs, batch_size=batch_size, verbose=1,validation_data=(x_test,Y_test),shuffle=True)\n",
        "          history.append(hist)\n",
        "\n",
        "\n",
        "          # predict model\n",
        "          y_pred = cnn_model.predict(x_test)\n",
        "\n",
        "          y_pred_classes = np.argmax(y_pred,axis = 1) # Convert predictions classes to one hot vectors  \n",
        "          cm = confusion_matrix(y_test, y_pred_classes,normalize='true') # results from confusion matrix \n",
        "          cms.append(cm)\n",
        "\n",
        "          # model prediction on test data\n",
        "          test_data_pred.append(cnn_model.predict(test_data))\n",
        "\n",
        "\n",
        "          #evaluate model\n",
        "          scores = cnn_model.evaluate(x_test,Y_test, verbose=0)\n",
        "          print(\"%s: %.2f%%\"% (cnn_model.metrics_names[1], scores[1]*100))\n",
        "          cv_scores.append(scores[1]*100)\n",
        "    \n",
        "        print(\"%.2f%% (+/- %.2f%%)\"%(np.mean(cv_scores), np.std(cv_scores)))\n",
        "\n",
        "    return cv_scores, cms, history, test_data_pred\n",
        "      \n",
        "    \n"
      ]
    },
    {
      "cell_type": "code",
      "execution_count": null,
      "metadata": {
        "colab": {
          "base_uri": "https://localhost:8080/"
        },
        "id": "JVTM1XhAlCNY",
        "outputId": "08756b06-4573-4f50-c10f-69a31e3567c0"
      },
      "outputs": [],
      "source": [
        "## Train Model for 1500_10 condition dataset\n",
        "\n",
        "cv_scores, cms, history, test_data_predictions = train_model(X_1500, y_1500, X_1500_test)"
      ]
    },
    {
      "cell_type": "code",
      "execution_count": null,
      "metadata": {
        "colab": {
          "base_uri": "https://localhost:8080/"
        },
        "id": "Um3bLySWmUOd",
        "outputId": "15056cff-cabd-43d0-8043-1670fc47b269"
      },
      "outputs": [],
      "source": [
        "## Train Model for 2700_25 condition dataset\n",
        "\n",
        "cv_scores_27, cms_27, history_27, test_data_predictions_27 = train_model(X_2700, y_2700, X_2700_test)"
      ]
    },
    {
      "cell_type": "markdown",
      "metadata": {
        "id": "_yn5oY4htTiZ"
      },
      "source": [
        "## Get Model Predictions on Test Data"
      ]
    },
    {
      "cell_type": "code",
      "execution_count": 24,
      "metadata": {
        "id": "5zcf45qvta6k"
      },
      "outputs": [],
      "source": [
        "def predict(test_predictions, cv_scores):\n",
        "    \n",
        "    k = np.argmax(cv_scores)\n",
        "    return np.argmax(test_predictions[k],axis = 1) # Convert to classes "
      ]
    },
    {
      "cell_type": "code",
      "execution_count": 87,
      "metadata": {
        "id": "_m-0H6qhuALe"
      },
      "outputs": [],
      "source": [
        "##  saving predictions on 1500_10 operation condition dataset \n",
        "\n",
        "from numpy import savetxt\n",
        "\n",
        "savetxt('predictions.csv', predict(test_data_predictions, cv_scores=cv_scores))\n",
        "\n",
        "\n"
      ]
    },
    {
      "cell_type": "code",
      "execution_count": 25,
      "metadata": {
        "id": "kSFPSF8wusIE"
      },
      "outputs": [],
      "source": [
        "## saving predictions on 2700_25 operation condition dataset \n",
        "\n",
        "from numpy import savetxt\n",
        "\n",
        "savetxt('predictions_27.csv', predict(test_data_predictions_27, cv_scores=cv_scores_27))"
      ]
    },
    {
      "cell_type": "markdown",
      "metadata": {
        "id": "TawJYE2wh3Ba"
      },
      "source": [
        "## Model Performance"
      ]
    },
    {
      "cell_type": "code",
      "execution_count": 18,
      "metadata": {
        "id": "1yhg1ulQh4pV"
      },
      "outputs": [],
      "source": [
        "def model_performance(model_history, cv_scores, cms):\n",
        "    \n",
        "    k = np.argmax(cv_scores) # index of maximum cvscore\n",
        "    cm = cms[k]\n",
        "    accuracy = cv_scores[k]\n",
        "    print(\"Model Accuracy = %.2f%% \\n\"%(accuracy) )\n",
        "\n",
        "    # Plotting confusion matrix\n",
        "\n",
        "    f = sns.heatmap(cm, annot=True,xticklabels= ['normal', 'surface \\n wear', 'crack' , 'chipped', 'tooth \\n missing'], yticklabels= ['normal', 'surface wear', 'crack' , 'chipped', 'tooth missing'], cmap=\"Greens\")\n",
        "    plot = plt.show()\n",
        "\n",
        "    return plot"
      ]
    },
    {
      "cell_type": "code",
      "execution_count": null,
      "metadata": {
        "colab": {
          "base_uri": "https://localhost:8080/",
          "height": 482
        },
        "id": "MWgaxi1FqIXh",
        "outputId": "5808aa0f-aa92-481f-b85b-67980aa71a86"
      },
      "outputs": [],
      "source": [
        "## Model performance for 1500_10 condition dataset\n",
        "model_performance(model_history=history, cv_scores = cv_scores, cms= cms)"
      ]
    },
    {
      "cell_type": "code",
      "execution_count": null,
      "metadata": {
        "colab": {
          "base_uri": "https://localhost:8080/",
          "height": 488
        },
        "id": "3TaIzvipwqjo",
        "outputId": "8335e03b-6556-42d5-8d69-18f00cc26902"
      },
      "outputs": [],
      "source": [
        "## Model performance for 2700_25 condition dataset\n",
        "model_performance(model_history=history_27, cv_scores = cv_scores_27, cms= cms_27)"
      ]
    }
  ],
  "metadata": {
    "accelerator": "GPU",
    "colab": {
      "provenance": []
    },
    "gpuClass": "premium",
    "kernelspec": {
      "display_name": "Python 3",
      "name": "python3"
    },
    "language_info": {
      "name": "python"
    }
  },
  "nbformat": 4,
  "nbformat_minor": 0
}
